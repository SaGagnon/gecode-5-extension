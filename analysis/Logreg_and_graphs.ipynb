{
 "cells": [
  {
   "cell_type": "code",
   "execution_count": 13,
   "metadata": {
    "collapsed": false
   },
   "outputs": [],
   "source": [
    "#%%writefile /home/sam/gecode-5.0.0-extension/analysis/utils.py\n",
    "\n",
    "#%load /home/sam/gecode-5.0.0-extension/analysis/utils.py\n",
    "#%%writefile /home/sam/gecode-5.0.0-extension/analysis/utils.py\n",
    "from sklearn.linear_model import LogisticRegressionCV\n",
    "\n",
    "import math\n",
    "import matplotlib.pyplot as plt\n",
    "import seaborn as sns\n",
    "import pandas as pd\n",
    "from io import StringIO\n",
    "%matplotlib inline\n",
    "\n",
    "def get_node_in_exs(exs, path_db):\n",
    "    req_sql = \"\"\"\n",
    "        SELECT d.*,\n",
    "          CASE WHEN r.exec_id IS NOT NULL THEN 1 ELSE 0 END as in_sol\n",
    "        FROM densities AS d\n",
    "        LEFT JOIN results AS r\n",
    "          ON d.exec_id=r.exec_id\n",
    "          AND d.var_id=r.var_id\n",
    "          AND d.val=r.val\n",
    "        WHERE d.exec_id = $2;\n",
    "    \"\"\"\n",
    "\n",
    "    df = pd.DataFrame()\n",
    "    for ex in exs:\n",
    "        req_sql_ex = req_sql.replace('$2', str(ex))\n",
    "        output = !sqlite3 -header -csv {path_db} \"{req_sql_ex}\"\n",
    "        if len(output) == 0: continue\n",
    "        df = df.append(\n",
    "            pd.read_csv(\n",
    "                StringIO(output.n),\n",
    "                index_col=['exec_id','node_id','var_id','val']\n",
    "            )\n",
    "        )\n",
    "    return df\n",
    "\n",
    "def get_node_in_exs_old_db(exs, path_db, sat=True):\n",
    "    req_sql = \"\"\"\n",
    "        SELECT d.*,\n",
    "          n.sat,\n",
    "          CASE WHEN r.exec_id IS NOT NULL THEN 1 ELSE 0 END as in_sol\n",
    "        FROM densities AS d\n",
    "        JOIN nodes AS n\n",
    "          ON d.exec_id=n.exec_id\n",
    "          AND d.node_id=n.node_id\n",
    "          $1\n",
    "        LEFT JOIN results AS r\n",
    "          ON d.exec_id=r.exec_id\n",
    "          AND d.var_idx=r.var_idx\n",
    "          AND d.val=r.val\n",
    "          AND r.res_id=0 -- TEMPORAIRE\n",
    "        WHERE d.exec_id = $2\n",
    "           AND EXISTS (\n",
    "             SELECT exec_id\n",
    "             FROM results as rr\n",
    "             WHERE rr.exec_id = $2\n",
    "        );\n",
    "    \"\"\"\n",
    "    \n",
    "    if sat:\n",
    "        req_sql = req_sql.replace('$1',\"AND n.sat=1\")\n",
    "        \n",
    "    df = pd.DataFrame()\n",
    "    for ex in exs:\n",
    "        req_sql_ex = req_sql.replace('$2', str(ex))\n",
    "        output = !sqlite3 -header -csv {path_db} \"{req_sql_ex}\"\n",
    "        if len(output) == 0:continue\n",
    "        df = df.append(\n",
    "            pd.read_csv(\n",
    "                StringIO(output.n),\n",
    "                index_col=['exec_id','node_id','prop_id','var_idx','val']\n",
    "            )\n",
    "        )\n",
    "        \n",
    "    return df\n",
    "\n",
    "features_subset = [\n",
    "    \"max_sd\",\n",
    "    \"a_avg_sd\"\n",
    "]\n",
    "\n",
    "def plot_features_sln_sep(features):\n",
    "    width = 3\n",
    "    height = math.ceil(len(features)/width)\n",
    "    plt.figure(figsize=(16,4*height))\n",
    "\n",
    "    for i, feature in enumerate(features):\n",
    "        plt.subplot(width,height, i+1)\n",
    "        plt.title(feature)\n",
    "        sns.kdeplot(df[df.in_sol == False][feature], color='r')\n",
    "        sns.kdeplot(df[df.in_sol == True][feature], color='g')\n",
    "        plt.gca().legend_.remove()\n",
    "        plt.ylim(0,10)\n",
    "        \n",
    "def get_X_y(df):\n",
    "    return df.iloc[:,:-1], df.iloc[:,-1]\n",
    "\n",
    "# TEMP\n",
    "def print_coefs(clf, features):\n",
    "    print('double _x = 0;')\n",
    "    for i, coef in enumerate(clf.coef_[0]):\n",
    "         print(\"_x += %.4f * %s;\" % (coef, features[i][1]))\n",
    "    print('double intercept = %.4f;' % (clf.intercept_))\n",
    "    print('_x += intercept;')\n",
    "\n",
    "# TEMP"
   ]
  },
  {
   "cell_type": "code",
   "execution_count": 9,
   "metadata": {
    "collapsed": false
   },
   "outputs": [],
   "source": [
    "path_to_db = \"/media/sam/hdd3tb/cbs-scripts/bd/correct_sat/cbs.db\"\n",
    "\n",
    "execs_ids = range(232,241)\n",
    "df = get_node_in_exs_old_db(execs_ids, path_to_db).drop('sat',axis=1)"
   ]
  },
  {
   "cell_type": "code",
   "execution_count": 11,
   "metadata": {
    "collapsed": true
   },
   "outputs": [],
   "source": [
    "execs = [x for x in execs_ids]\n",
    "X_train, y_train = get_X_y(df.loc[execs])"
   ]
  },
  {
   "cell_type": "code",
   "execution_count": 14,
   "metadata": {
    "collapsed": false
   },
   "outputs": [
    {
     "data": {
      "text/plain": [
       "LogisticRegressionCV(Cs=10, class_weight=None, cv=None, dual=False,\n",
       "           fit_intercept=True, intercept_scaling=1.0, max_iter=100,\n",
       "           multi_class='ovr', n_jobs=4, penalty='l1', random_state=None,\n",
       "           refit=True, scoring=None, solver='liblinear', tol=0.0001,\n",
       "           verbose=0)"
      ]
     },
     "execution_count": 14,
     "metadata": {},
     "output_type": "execute_result"
    }
   ],
   "source": [
    "clf = LogisticRegressionCV(penalty='l1', solver='liblinear', n_jobs=4)\n",
    "\n",
    "clf.fit(X_train[['a_avg_sd', 'max_rel_sd']], y_train)"
   ]
  },
  {
   "cell_type": "code",
   "execution_count": 15,
   "metadata": {
    "collapsed": false
   },
   "outputs": [
    {
     "data": {
      "text/plain": [
       "array([ 4.70906309,  6.45922963])"
      ]
     },
     "execution_count": 15,
     "metadata": {},
     "output_type": "execute_result"
    }
   ],
   "source": [
    "clf.coef_[0]"
   ]
  },
  {
   "cell_type": "code",
   "execution_count": null,
   "metadata": {
    "collapsed": true
   },
   "outputs": [],
   "source": []
  }
 ],
 "metadata": {
  "kernelspec": {
   "display_name": "Python 3",
   "language": "python",
   "name": "python3"
  },
  "language_info": {
   "codemirror_mode": {
    "name": "ipython",
    "version": 3
   },
   "file_extension": ".py",
   "mimetype": "text/x-python",
   "name": "python",
   "nbconvert_exporter": "python",
   "pygments_lexer": "ipython3",
   "version": "3.5.2"
  }
 },
 "nbformat": 4,
 "nbformat_minor": 0
}
