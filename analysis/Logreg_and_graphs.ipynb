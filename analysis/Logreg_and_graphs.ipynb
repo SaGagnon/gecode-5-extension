{
 "cells": [
  {
   "cell_type": "code",
   "execution_count": 2,
   "metadata": {},
   "outputs": [],
   "source": [
    "#%%writefile /home/sam/gecode-5.0.0-extension/analysis/utils.py\n",
    "\n",
    "#%load /home/sam/gecode-5.0.0-extension/analysis/utils.py\n",
    "#%%writefile /home/sam/gecode-5.0.0-extension/analysis/utils.py\n",
    "from sklearn.linear_model import LogisticRegressionCV\n",
    "\n",
    "import math\n",
    "import matplotlib.pyplot as plt\n",
    "import seaborn as sns\n",
    "import pandas as pd\n",
    "from io import StringIO\n",
    "%matplotlib inline\n",
    "\n",
    "def get_node_in_exs(exs, path_db):\n",
    "    req_sql = \"\"\"\n",
    "        SELECT d.*,\n",
    "          CASE WHEN r.exec_id IS NOT NULL THEN 1 ELSE 0 END as in_sol\n",
    "        FROM densities AS d\n",
    "        LEFT JOIN results AS r\n",
    "          ON d.exec_id=r.exec_id\n",
    "          AND d.var_id=r.var_id\n",
    "          AND d.val=r.val\n",
    "        WHERE d.exec_id = $2;\n",
    "    \"\"\"\n",
    "\n",
    "    df = pd.DataFrame()\n",
    "    for ex in exs:\n",
    "        req_sql_ex = req_sql.replace('$2', str(ex))\n",
    "        output = !sqlite3 -header -csv {path_db} \"{req_sql_ex}\"\n",
    "        if len(output) == 0: continue\n",
    "        df = df.append(\n",
    "            pd.read_csv(\n",
    "                StringIO(output.n),\n",
    "                index_col=['exec_id','node_id','var_id','val']\n",
    "            )\n",
    "        )\n",
    "    return df\n",
    "\n",
    "def get_node_in_exs_old_db(exs, path_db, sat=True):\n",
    "    req_sql = \"\"\"\n",
    "        SELECT d.*,\n",
    "          n.sat,\n",
    "          CASE WHEN r.exec_id IS NOT NULL THEN 1 ELSE 0 END as in_sol\n",
    "        FROM densities AS d\n",
    "        JOIN nodes AS n\n",
    "          ON d.exec_id=n.exec_id\n",
    "          AND d.node_id=n.node_id\n",
    "          $1\n",
    "        LEFT JOIN results AS r\n",
    "          ON d.exec_id=r.exec_id\n",
    "          AND d.var_idx=r.var_idx\n",
    "          AND d.val=r.val\n",
    "          AND r.res_id=0 -- TEMPORAIRE\n",
    "        WHERE d.exec_id = $2\n",
    "           AND EXISTS (\n",
    "             SELECT exec_id\n",
    "             FROM results as rr\n",
    "             WHERE rr.exec_id = $2\n",
    "        );\n",
    "    \"\"\"\n",
    "    \n",
    "    if sat:\n",
    "        req_sql = req_sql.replace('$1',\"AND n.sat=1\")\n",
    "        \n",
    "    df = pd.DataFrame()\n",
    "    for ex in exs:\n",
    "        req_sql_ex = req_sql.replace('$2', str(ex))\n",
    "        output = !sqlite3 -header -csv {path_db} \"{req_sql_ex}\"\n",
    "        if len(output) == 0:continue\n",
    "        df = df.append(\n",
    "            pd.read_csv(\n",
    "                StringIO(output.n),\n",
    "                index_col=['exec_id','node_id','prop_id','var_idx','val']\n",
    "            )\n",
    "        )\n",
    "        \n",
    "    return df\n",
    "\n",
    "features_subset = [\n",
    "    \"max_sd\",\n",
    "    \"a_avg_sd\"\n",
    "]\n",
    "\n",
    "def plot_features_sln_sep(df, features):\n",
    "    width = 3\n",
    "    height = math.ceil(len(features)/width)\n",
    "    plt.figure(figsize=(16,4*height))\n",
    "\n",
    "    for i, feature in enumerate(features):\n",
    "        plt.subplot(width,height, i+1)\n",
    "        plt.title(feature)\n",
    "        sns.kdeplot(df[df.in_sol == False][feature], color='r')\n",
    "        sns.kdeplot(df[df.in_sol == True][feature], color='g')\n",
    "        plt.gca().legend_.remove()\n",
    "        plt.ylim(0,10)\n",
    "        \n",
    "def get_X_y(df):\n",
    "    return df.iloc[:,:-1], df.iloc[:,-1]\n",
    "\n",
    "# TEMP\n",
    "def print_coefs(clf, features):\n",
    "    print('double _x = 0;')\n",
    "    for i, coef in enumerate(clf.coef_[0]):\n",
    "         print(\"_x += %.4f * %s;\" % (coef, features[i][1]))\n",
    "    print('double intercept = %.4f;' % (clf.intercept_))\n",
    "    print('_x += intercept;')\n",
    "\n",
    "# TEMP"
   ]
  },
  {
   "cell_type": "code",
   "execution_count": 16,
   "metadata": {},
   "outputs": [],
   "source": [
    "path_to_db = \"/media/sam/hdd3tb/cbs-scripts/bd/correct_sat/cbs.db\"\n",
    "\n",
    "execs_ids = range(232,241)\n",
    "df = get_node_in_exs_old_db(execs_ids, path_to_db).drop('sat',axis=1)"
   ]
  },
  {
   "cell_type": "code",
   "execution_count": 17,
   "metadata": {
    "collapsed": true
   },
   "outputs": [],
   "source": [
    "execs = [x for x in execs_ids]\n",
    "X_train, y_train = get_X_y(df.loc[execs])"
   ]
  },
  {
   "cell_type": "code",
   "execution_count": 1,
   "metadata": {},
   "outputs": [
    {
     "ename": "NameError",
     "evalue": "name 'LogisticRegressionCV' is not defined",
     "output_type": "error",
     "traceback": [
      "\u001b[1;31m---------------------------------------------------------------------------\u001b[0m",
      "\u001b[1;31mNameError\u001b[0m                                 Traceback (most recent call last)",
      "\u001b[1;32m<ipython-input-1-295a25b01a2d>\u001b[0m in \u001b[0;36m<module>\u001b[1;34m()\u001b[0m\n\u001b[1;32m----> 1\u001b[1;33m \u001b[0mclf\u001b[0m \u001b[1;33m=\u001b[0m \u001b[0mLogisticRegressionCV\u001b[0m\u001b[1;33m(\u001b[0m\u001b[0mpenalty\u001b[0m\u001b[1;33m=\u001b[0m\u001b[1;34m'l1'\u001b[0m\u001b[1;33m,\u001b[0m \u001b[0msolver\u001b[0m\u001b[1;33m=\u001b[0m\u001b[1;34m'liblinear'\u001b[0m\u001b[1;33m,\u001b[0m \u001b[0mn_jobs\u001b[0m\u001b[1;33m=\u001b[0m\u001b[1;36m4\u001b[0m\u001b[1;33m)\u001b[0m\u001b[1;33m\u001b[0m\u001b[0m\n\u001b[0m\u001b[0;32m      2\u001b[0m \u001b[1;33m\u001b[0m\u001b[0m\n\u001b[0;32m      3\u001b[0m \u001b[0mclf\u001b[0m\u001b[1;33m.\u001b[0m\u001b[0mfit\u001b[0m\u001b[1;33m(\u001b[0m\u001b[0mX_train\u001b[0m\u001b[1;33m[\u001b[0m\u001b[1;33m[\u001b[0m\u001b[1;34m'a_avg_sd'\u001b[0m\u001b[1;33m,\u001b[0m \u001b[1;34m'max_rel_sd'\u001b[0m\u001b[1;33m]\u001b[0m\u001b[1;33m]\u001b[0m\u001b[1;33m,\u001b[0m \u001b[0my_train\u001b[0m\u001b[1;33m)\u001b[0m\u001b[1;33m\u001b[0m\u001b[0m\n",
      "\u001b[1;31mNameError\u001b[0m: name 'LogisticRegressionCV' is not defined"
     ]
    }
   ],
   "source": [
    "clf = LogisticRegressionCV(penalty='l1', solver='liblinear', n_jobs=4)\n",
    "\n",
    "clf.fit(X_train[['a_avg_sd', 'max_rel_sd']], y_train)"
   ]
  },
  {
   "cell_type": "code",
   "execution_count": 19,
   "metadata": {},
   "outputs": [
    {
     "name": "stdout",
     "output_type": "stream",
     "text": [
      "4.709576 6.458636 -2.575427\n"
     ]
    }
   ],
   "source": [
    "print(\"%f %f %f\" % (clf.coef_[0][0], clf.coef_[0][1], clf.intercept_))"
   ]
  },
  {
   "cell_type": "code",
   "execution_count": 23,
   "metadata": {},
   "outputs": [
    {
     "name": "stdout",
     "output_type": "stream",
     "text": [
      "0.225683 0.025436\n"
     ]
    }
   ],
   "source": [
    "print(\"%f %f\" % (df['a_avg_sd'].mean(), df['max_rel_sd'].mean()))"
   ]
  },
  {
   "cell_type": "code",
   "execution_count": null,
   "metadata": {
    "collapsed": true
   },
   "outputs": [],
   "source": []
  }
 ],
 "metadata": {
  "kernelspec": {
   "display_name": "Python 3",
   "language": "python",
   "name": "python3"
  },
  "language_info": {
   "codemirror_mode": {
    "name": "ipython",
    "version": 3
   },
   "file_extension": ".py",
   "mimetype": "text/x-python",
   "name": "python",
   "nbconvert_exporter": "python",
   "pygments_lexer": "ipython3",
   "version": "3.6.1"
  }
 },
 "nbformat": 4,
 "nbformat_minor": 1
}
